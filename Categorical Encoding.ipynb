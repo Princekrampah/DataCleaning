{
 "cells": [
  {
   "cell_type": "markdown",
   "id": "454aa490",
   "metadata": {},
   "source": [
    "# Categorical Encoding"
   ]
  },
  {
   "cell_type": "markdown",
   "id": "5d8898e4",
   "metadata": {},
   "source": [
    "Machine learning models do not understand text, they only understand numbers. In some cases datasets we want to use to train a model containes text, so how do we go about changes text to a form that the machine learning algorithms can understand. \n",
    "\n",
    "\n",
    "Here is where we use **Label Encoding** and **One Hot Encoding**. Basically converting text data to a numeric format that machine learning algorithms can work with."
   ]
  },
  {
   "cell_type": "markdown",
   "id": "57de0acd",
   "metadata": {},
   "source": [
    "In most cases, we are talking of label encoding when we have **categorical columns**. Example **male** or **female** in the gender feature column.\n",
    "\n",
    "Very few machine learning models are able to handle the categorical convertion on their own eg **CATBOAST** while most are not able to deal with the categorical features."
   ]
  },
  {
   "cell_type": "markdown",
   "id": "03f89a5e",
   "metadata": {},
   "source": [
    "## Label Encoding\n",
    "\n",
    "This is the simplest way to deal with categorical values encoding. This approach simply converts each category into a number where by the categories that come after the first one is simply an incremented value by one assigned to the previous one(This sometimes is called **running sequence**)."
   ]
  },
  {
   "cell_type": "code",
   "execution_count": 25,
   "id": "71eaafb1",
   "metadata": {},
   "outputs": [],
   "source": [
    "import pandas as pd\n",
    "import numpy as np"
   ]
  },
  {
   "cell_type": "code",
   "execution_count": 26,
   "id": "1c2ef3d3",
   "metadata": {},
   "outputs": [
    {
     "data": {
      "text/html": [
       "<div>\n",
       "<style scoped>\n",
       "    .dataframe tbody tr th:only-of-type {\n",
       "        vertical-align: middle;\n",
       "    }\n",
       "\n",
       "    .dataframe tbody tr th {\n",
       "        vertical-align: top;\n",
       "    }\n",
       "\n",
       "    .dataframe thead th {\n",
       "        text-align: right;\n",
       "    }\n",
       "</style>\n",
       "<table border=\"1\" class=\"dataframe\">\n",
       "  <thead>\n",
       "    <tr style=\"text-align: right;\">\n",
       "      <th></th>\n",
       "      <th>Fruits</th>\n",
       "      <th>Wieghts</th>\n",
       "    </tr>\n",
       "  </thead>\n",
       "  <tbody>\n",
       "    <tr>\n",
       "      <th>0</th>\n",
       "      <td>Mango</td>\n",
       "      <td>20</td>\n",
       "    </tr>\n",
       "    <tr>\n",
       "      <th>1</th>\n",
       "      <td>Apple</td>\n",
       "      <td>10</td>\n",
       "    </tr>\n",
       "    <tr>\n",
       "      <th>2</th>\n",
       "      <td>Orange</td>\n",
       "      <td>15</td>\n",
       "    </tr>\n",
       "    <tr>\n",
       "      <th>3</th>\n",
       "      <td>Pineapple</td>\n",
       "      <td>500</td>\n",
       "    </tr>\n",
       "    <tr>\n",
       "      <th>4</th>\n",
       "      <td>Grape</td>\n",
       "      <td>4</td>\n",
       "    </tr>\n",
       "  </tbody>\n",
       "</table>\n",
       "</div>"
      ],
      "text/plain": [
       "      Fruits  Wieghts\n",
       "0      Mango       20\n",
       "1      Apple       10\n",
       "2     Orange       15\n",
       "3  Pineapple      500\n",
       "4      Grape        4"
      ]
     },
     "execution_count": 26,
     "metadata": {},
     "output_type": "execute_result"
    }
   ],
   "source": [
    "df = pd.DataFrame({\"Fruits\": [\"Mango\", \"Apple\", \"Orange\", \"Pineapple\", \"Grape\"],\n",
    "                      \"Wieghts\": [20, 10, 15, 500, 4]})\n",
    "df"
   ]
  },
  {
   "cell_type": "markdown",
   "id": "6f260a34",
   "metadata": {},
   "source": [
    "From the data above, you can see that the **Fruits** column is **categorical**. But is it how sure are we that its categorical in type? Lets confirm this in Python."
   ]
  },
  {
   "cell_type": "code",
   "execution_count": 27,
   "id": "a1f3fc23",
   "metadata": {},
   "outputs": [
    {
     "data": {
      "text/plain": [
       "Fruits     object\n",
       "Wieghts     int64\n",
       "dtype: object"
      ]
     },
     "execution_count": 27,
     "metadata": {},
     "output_type": "execute_result"
    }
   ],
   "source": [
    "df.dtypes"
   ]
  },
  {
   "cell_type": "markdown",
   "id": "020a12df",
   "metadata": {},
   "source": [
    "You can clearly see that its column type is not **categorical** even though it looks like it. Lets go ahead and convert this to a categorical data type."
   ]
  },
  {
   "cell_type": "code",
   "execution_count": 28,
   "id": "948f3af2",
   "metadata": {},
   "outputs": [],
   "source": [
    "df['Fruits'] = df['Fruits'].astype(\"category\")"
   ]
  },
  {
   "cell_type": "code",
   "execution_count": 29,
   "id": "52d6dedc",
   "metadata": {
    "scrolled": true
   },
   "outputs": [
    {
     "data": {
      "text/plain": [
       "Fruits     category\n",
       "Wieghts       int64\n",
       "dtype: object"
      ]
     },
     "execution_count": 29,
     "metadata": {},
     "output_type": "execute_result"
    }
   ],
   "source": [
    "df.dtypes"
   ]
  },
  {
   "cell_type": "markdown",
   "id": "9818fdd7",
   "metadata": {},
   "source": [
    "Now we can clearly see that its a categorical value. Now lets use **Label Encoding** to convert this into a numerica array.\n",
    "\n",
    "We can use multiple ways to solve this, first lets see how we can do this using pandas."
   ]
  },
  {
   "cell_type": "code",
   "execution_count": 30,
   "id": "4b9c280e",
   "metadata": {},
   "outputs": [],
   "source": [
    "df[\"Encoding_with_Pandas\"] = df[\"Fruits\"].cat.codes"
   ]
  },
  {
   "cell_type": "code",
   "execution_count": 31,
   "id": "20a84177",
   "metadata": {},
   "outputs": [
    {
     "data": {
      "text/html": [
       "<div>\n",
       "<style scoped>\n",
       "    .dataframe tbody tr th:only-of-type {\n",
       "        vertical-align: middle;\n",
       "    }\n",
       "\n",
       "    .dataframe tbody tr th {\n",
       "        vertical-align: top;\n",
       "    }\n",
       "\n",
       "    .dataframe thead th {\n",
       "        text-align: right;\n",
       "    }\n",
       "</style>\n",
       "<table border=\"1\" class=\"dataframe\">\n",
       "  <thead>\n",
       "    <tr style=\"text-align: right;\">\n",
       "      <th></th>\n",
       "      <th>Fruits</th>\n",
       "      <th>Wieghts</th>\n",
       "      <th>Encoding_with_Pandas</th>\n",
       "    </tr>\n",
       "  </thead>\n",
       "  <tbody>\n",
       "    <tr>\n",
       "      <th>0</th>\n",
       "      <td>Mango</td>\n",
       "      <td>20</td>\n",
       "      <td>2</td>\n",
       "    </tr>\n",
       "    <tr>\n",
       "      <th>1</th>\n",
       "      <td>Apple</td>\n",
       "      <td>10</td>\n",
       "      <td>0</td>\n",
       "    </tr>\n",
       "    <tr>\n",
       "      <th>2</th>\n",
       "      <td>Orange</td>\n",
       "      <td>15</td>\n",
       "      <td>3</td>\n",
       "    </tr>\n",
       "    <tr>\n",
       "      <th>3</th>\n",
       "      <td>Pineapple</td>\n",
       "      <td>500</td>\n",
       "      <td>4</td>\n",
       "    </tr>\n",
       "    <tr>\n",
       "      <th>4</th>\n",
       "      <td>Grape</td>\n",
       "      <td>4</td>\n",
       "      <td>1</td>\n",
       "    </tr>\n",
       "  </tbody>\n",
       "</table>\n",
       "</div>"
      ],
      "text/plain": [
       "      Fruits  Wieghts  Encoding_with_Pandas\n",
       "0      Mango       20                     2\n",
       "1      Apple       10                     0\n",
       "2     Orange       15                     3\n",
       "3  Pineapple      500                     4\n",
       "4      Grape        4                     1"
      ]
     },
     "execution_count": 31,
     "metadata": {},
     "output_type": "execute_result"
    }
   ],
   "source": [
    "df"
   ]
  },
  {
   "cell_type": "markdown",
   "id": "228d7062",
   "metadata": {},
   "source": [
    "We can also solve this using **scikit-learn**"
   ]
  },
  {
   "cell_type": "code",
   "execution_count": 32,
   "id": "87c922af",
   "metadata": {},
   "outputs": [],
   "source": [
    "from sklearn.preprocessing import LabelEncoder"
   ]
  },
  {
   "cell_type": "code",
   "execution_count": 33,
   "id": "a4fac145",
   "metadata": {},
   "outputs": [],
   "source": [
    "label_encoder = LabelEncoder()"
   ]
  },
  {
   "cell_type": "code",
   "execution_count": 34,
   "id": "97e7e649",
   "metadata": {},
   "outputs": [],
   "source": [
    "label_encoder.fit(df[\"Fruits\"])\n",
    "\n",
    "df[\"encoded_with_sklearn\"] = label_encoder.transform(df[\"Fruits\"])"
   ]
  },
  {
   "cell_type": "code",
   "execution_count": 35,
   "id": "3e3b4050",
   "metadata": {},
   "outputs": [
    {
     "data": {
      "text/html": [
       "<div>\n",
       "<style scoped>\n",
       "    .dataframe tbody tr th:only-of-type {\n",
       "        vertical-align: middle;\n",
       "    }\n",
       "\n",
       "    .dataframe tbody tr th {\n",
       "        vertical-align: top;\n",
       "    }\n",
       "\n",
       "    .dataframe thead th {\n",
       "        text-align: right;\n",
       "    }\n",
       "</style>\n",
       "<table border=\"1\" class=\"dataframe\">\n",
       "  <thead>\n",
       "    <tr style=\"text-align: right;\">\n",
       "      <th></th>\n",
       "      <th>Fruits</th>\n",
       "      <th>Wieghts</th>\n",
       "      <th>Encoding_with_Pandas</th>\n",
       "      <th>encoded_with_sklearn</th>\n",
       "    </tr>\n",
       "  </thead>\n",
       "  <tbody>\n",
       "    <tr>\n",
       "      <th>0</th>\n",
       "      <td>Mango</td>\n",
       "      <td>20</td>\n",
       "      <td>2</td>\n",
       "      <td>2</td>\n",
       "    </tr>\n",
       "    <tr>\n",
       "      <th>1</th>\n",
       "      <td>Apple</td>\n",
       "      <td>10</td>\n",
       "      <td>0</td>\n",
       "      <td>0</td>\n",
       "    </tr>\n",
       "    <tr>\n",
       "      <th>2</th>\n",
       "      <td>Orange</td>\n",
       "      <td>15</td>\n",
       "      <td>3</td>\n",
       "      <td>3</td>\n",
       "    </tr>\n",
       "    <tr>\n",
       "      <th>3</th>\n",
       "      <td>Pineapple</td>\n",
       "      <td>500</td>\n",
       "      <td>4</td>\n",
       "      <td>4</td>\n",
       "    </tr>\n",
       "    <tr>\n",
       "      <th>4</th>\n",
       "      <td>Grape</td>\n",
       "      <td>4</td>\n",
       "      <td>1</td>\n",
       "      <td>1</td>\n",
       "    </tr>\n",
       "  </tbody>\n",
       "</table>\n",
       "</div>"
      ],
      "text/plain": [
       "      Fruits  Wieghts  Encoding_with_Pandas  encoded_with_sklearn\n",
       "0      Mango       20                     2                     2\n",
       "1      Apple       10                     0                     0\n",
       "2     Orange       15                     3                     3\n",
       "3  Pineapple      500                     4                     4\n",
       "4      Grape        4                     1                     1"
      ]
     },
     "execution_count": 35,
     "metadata": {},
     "output_type": "execute_result"
    }
   ],
   "source": [
    "df"
   ]
  },
  {
   "cell_type": "markdown",
   "id": "2cd59880",
   "metadata": {},
   "source": [
    "Shorter approach, fit and transform using one line."
   ]
  },
  {
   "cell_type": "code",
   "execution_count": 36,
   "id": "c7f6d2a6",
   "metadata": {},
   "outputs": [],
   "source": [
    "df[\"encoded_with_sklearn\"] = label_encoder.fit_transform(df[\"Fruits\"])"
   ]
  },
  {
   "cell_type": "code",
   "execution_count": 37,
   "id": "37d24145",
   "metadata": {},
   "outputs": [
    {
     "data": {
      "text/html": [
       "<div>\n",
       "<style scoped>\n",
       "    .dataframe tbody tr th:only-of-type {\n",
       "        vertical-align: middle;\n",
       "    }\n",
       "\n",
       "    .dataframe tbody tr th {\n",
       "        vertical-align: top;\n",
       "    }\n",
       "\n",
       "    .dataframe thead th {\n",
       "        text-align: right;\n",
       "    }\n",
       "</style>\n",
       "<table border=\"1\" class=\"dataframe\">\n",
       "  <thead>\n",
       "    <tr style=\"text-align: right;\">\n",
       "      <th></th>\n",
       "      <th>Fruits</th>\n",
       "      <th>Wieghts</th>\n",
       "      <th>Encoding_with_Pandas</th>\n",
       "      <th>encoded_with_sklearn</th>\n",
       "    </tr>\n",
       "  </thead>\n",
       "  <tbody>\n",
       "    <tr>\n",
       "      <th>0</th>\n",
       "      <td>Mango</td>\n",
       "      <td>20</td>\n",
       "      <td>2</td>\n",
       "      <td>2</td>\n",
       "    </tr>\n",
       "    <tr>\n",
       "      <th>1</th>\n",
       "      <td>Apple</td>\n",
       "      <td>10</td>\n",
       "      <td>0</td>\n",
       "      <td>0</td>\n",
       "    </tr>\n",
       "    <tr>\n",
       "      <th>2</th>\n",
       "      <td>Orange</td>\n",
       "      <td>15</td>\n",
       "      <td>3</td>\n",
       "      <td>3</td>\n",
       "    </tr>\n",
       "    <tr>\n",
       "      <th>3</th>\n",
       "      <td>Pineapple</td>\n",
       "      <td>500</td>\n",
       "      <td>4</td>\n",
       "      <td>4</td>\n",
       "    </tr>\n",
       "    <tr>\n",
       "      <th>4</th>\n",
       "      <td>Grape</td>\n",
       "      <td>4</td>\n",
       "      <td>1</td>\n",
       "      <td>1</td>\n",
       "    </tr>\n",
       "  </tbody>\n",
       "</table>\n",
       "</div>"
      ],
      "text/plain": [
       "      Fruits  Wieghts  Encoding_with_Pandas  encoded_with_sklearn\n",
       "0      Mango       20                     2                     2\n",
       "1      Apple       10                     0                     0\n",
       "2     Orange       15                     3                     3\n",
       "3  Pineapple      500                     4                     4\n",
       "4      Grape        4                     1                     1"
      ]
     },
     "execution_count": 37,
     "metadata": {},
     "output_type": "execute_result"
    }
   ],
   "source": [
    "df"
   ]
  },
  {
   "cell_type": "markdown",
   "id": "5d564bcd",
   "metadata": {},
   "source": [
    "Label Encoding is a great approach but, one short coming of this approach is that...it unintentionally give weights to the different values from the category feature, since computers only understand numbers, **Grapes** will be given less weight compared to **Pineapples** since **1** < **4**. This will lead to models misinterpreting the feature as a form a hierarchy/ordering. This is now what we intended to to, we simply wanted to convert the data into numeric columns. This is the very downside of label encoding. Another approach around categorical encoding is **One Hot Encoding**, this tends to avoid this problem. Lets take a look at it."
   ]
  },
  {
   "cell_type": "markdown",
   "id": "85a4d511",
   "metadata": {},
   "source": [
    "## One Hot Encoding"
   ]
  },
  {
   "cell_type": "markdown",
   "id": "0712b24e",
   "metadata": {},
   "source": [
    "In One Hot Encoding, we simply convert the values into multiple columns and each column is assigne a 1 or a 0. This helps to avoid the problem of hierarchy or ordering sort.\n",
    "\n",
    "Lets take alook at how we can accomplish this is Python."
   ]
  },
  {
   "cell_type": "code",
   "execution_count": 38,
   "id": "b3edabdd",
   "metadata": {},
   "outputs": [],
   "source": [
    "from sklearn.preprocessing import OneHotEncoder"
   ]
  },
  {
   "cell_type": "code",
   "execution_count": 39,
   "id": "e0816628",
   "metadata": {},
   "outputs": [],
   "source": [
    "one_hot_encoding = OneHotEncoder()"
   ]
  },
  {
   "cell_type": "code",
   "execution_count": 46,
   "id": "d64fae27",
   "metadata": {},
   "outputs": [],
   "source": [
    "transformed_one_hot_encoding = one_hot_encoding.fit_transform(df[[\"Fruits\"]])"
   ]
  },
  {
   "cell_type": "code",
   "execution_count": 47,
   "id": "b0876f24",
   "metadata": {},
   "outputs": [
    {
     "data": {
      "text/plain": [
       "<5x5 sparse matrix of type '<class 'numpy.float64'>'\n",
       "\twith 5 stored elements in Compressed Sparse Row format>"
      ]
     },
     "execution_count": 47,
     "metadata": {},
     "output_type": "execute_result"
    }
   ],
   "source": [
    "transformed_one_hot_encoding"
   ]
  },
  {
   "cell_type": "code",
   "execution_count": 63,
   "id": "b16952c7",
   "metadata": {},
   "outputs": [],
   "source": [
    "ohe_df = pd.DataFrame(transformed_one_hot_encoding.toarray(), dtype=\"int\")"
   ]
  },
  {
   "cell_type": "code",
   "execution_count": 64,
   "id": "db01f04a",
   "metadata": {},
   "outputs": [
    {
     "data": {
      "text/html": [
       "<div>\n",
       "<style scoped>\n",
       "    .dataframe tbody tr th:only-of-type {\n",
       "        vertical-align: middle;\n",
       "    }\n",
       "\n",
       "    .dataframe tbody tr th {\n",
       "        vertical-align: top;\n",
       "    }\n",
       "\n",
       "    .dataframe thead th {\n",
       "        text-align: right;\n",
       "    }\n",
       "</style>\n",
       "<table border=\"1\" class=\"dataframe\">\n",
       "  <thead>\n",
       "    <tr style=\"text-align: right;\">\n",
       "      <th></th>\n",
       "      <th>0</th>\n",
       "      <th>1</th>\n",
       "      <th>2</th>\n",
       "      <th>3</th>\n",
       "      <th>4</th>\n",
       "    </tr>\n",
       "  </thead>\n",
       "  <tbody>\n",
       "    <tr>\n",
       "      <th>0</th>\n",
       "      <td>0</td>\n",
       "      <td>0</td>\n",
       "      <td>1</td>\n",
       "      <td>0</td>\n",
       "      <td>0</td>\n",
       "    </tr>\n",
       "    <tr>\n",
       "      <th>1</th>\n",
       "      <td>1</td>\n",
       "      <td>0</td>\n",
       "      <td>0</td>\n",
       "      <td>0</td>\n",
       "      <td>0</td>\n",
       "    </tr>\n",
       "    <tr>\n",
       "      <th>2</th>\n",
       "      <td>0</td>\n",
       "      <td>0</td>\n",
       "      <td>0</td>\n",
       "      <td>1</td>\n",
       "      <td>0</td>\n",
       "    </tr>\n",
       "    <tr>\n",
       "      <th>3</th>\n",
       "      <td>0</td>\n",
       "      <td>0</td>\n",
       "      <td>0</td>\n",
       "      <td>0</td>\n",
       "      <td>1</td>\n",
       "    </tr>\n",
       "    <tr>\n",
       "      <th>4</th>\n",
       "      <td>0</td>\n",
       "      <td>1</td>\n",
       "      <td>0</td>\n",
       "      <td>0</td>\n",
       "      <td>0</td>\n",
       "    </tr>\n",
       "  </tbody>\n",
       "</table>\n",
       "</div>"
      ],
      "text/plain": [
       "   0  1  2  3  4\n",
       "0  0  0  1  0  0\n",
       "1  1  0  0  0  0\n",
       "2  0  0  0  1  0\n",
       "3  0  0  0  0  1\n",
       "4  0  1  0  0  0"
      ]
     },
     "execution_count": 64,
     "metadata": {},
     "output_type": "execute_result"
    }
   ],
   "source": [
    "ohe_df"
   ]
  },
  {
   "cell_type": "code",
   "execution_count": 52,
   "id": "efb94306",
   "metadata": {},
   "outputs": [],
   "source": [
    "ohe_final_df = df.join(ohe_df)"
   ]
  },
  {
   "cell_type": "code",
   "execution_count": 53,
   "id": "2f9f4220",
   "metadata": {},
   "outputs": [
    {
     "data": {
      "text/html": [
       "<div>\n",
       "<style scoped>\n",
       "    .dataframe tbody tr th:only-of-type {\n",
       "        vertical-align: middle;\n",
       "    }\n",
       "\n",
       "    .dataframe tbody tr th {\n",
       "        vertical-align: top;\n",
       "    }\n",
       "\n",
       "    .dataframe thead th {\n",
       "        text-align: right;\n",
       "    }\n",
       "</style>\n",
       "<table border=\"1\" class=\"dataframe\">\n",
       "  <thead>\n",
       "    <tr style=\"text-align: right;\">\n",
       "      <th></th>\n",
       "      <th>Fruits</th>\n",
       "      <th>Wieghts</th>\n",
       "      <th>Encoding_with_Pandas</th>\n",
       "      <th>encoded_with_sklearn</th>\n",
       "      <th>0</th>\n",
       "      <th>1</th>\n",
       "      <th>2</th>\n",
       "      <th>3</th>\n",
       "      <th>4</th>\n",
       "    </tr>\n",
       "  </thead>\n",
       "  <tbody>\n",
       "    <tr>\n",
       "      <th>0</th>\n",
       "      <td>Mango</td>\n",
       "      <td>20</td>\n",
       "      <td>2</td>\n",
       "      <td>2</td>\n",
       "      <td>0.0</td>\n",
       "      <td>0.0</td>\n",
       "      <td>1.0</td>\n",
       "      <td>0.0</td>\n",
       "      <td>0.0</td>\n",
       "    </tr>\n",
       "    <tr>\n",
       "      <th>1</th>\n",
       "      <td>Apple</td>\n",
       "      <td>10</td>\n",
       "      <td>0</td>\n",
       "      <td>0</td>\n",
       "      <td>1.0</td>\n",
       "      <td>0.0</td>\n",
       "      <td>0.0</td>\n",
       "      <td>0.0</td>\n",
       "      <td>0.0</td>\n",
       "    </tr>\n",
       "    <tr>\n",
       "      <th>2</th>\n",
       "      <td>Orange</td>\n",
       "      <td>15</td>\n",
       "      <td>3</td>\n",
       "      <td>3</td>\n",
       "      <td>0.0</td>\n",
       "      <td>0.0</td>\n",
       "      <td>0.0</td>\n",
       "      <td>1.0</td>\n",
       "      <td>0.0</td>\n",
       "    </tr>\n",
       "    <tr>\n",
       "      <th>3</th>\n",
       "      <td>Pineapple</td>\n",
       "      <td>500</td>\n",
       "      <td>4</td>\n",
       "      <td>4</td>\n",
       "      <td>0.0</td>\n",
       "      <td>0.0</td>\n",
       "      <td>0.0</td>\n",
       "      <td>0.0</td>\n",
       "      <td>1.0</td>\n",
       "    </tr>\n",
       "    <tr>\n",
       "      <th>4</th>\n",
       "      <td>Grape</td>\n",
       "      <td>4</td>\n",
       "      <td>1</td>\n",
       "      <td>1</td>\n",
       "      <td>0.0</td>\n",
       "      <td>1.0</td>\n",
       "      <td>0.0</td>\n",
       "      <td>0.0</td>\n",
       "      <td>0.0</td>\n",
       "    </tr>\n",
       "  </tbody>\n",
       "</table>\n",
       "</div>"
      ],
      "text/plain": [
       "      Fruits  Wieghts  Encoding_with_Pandas  encoded_with_sklearn    0    1  \\\n",
       "0      Mango       20                     2                     2  0.0  0.0   \n",
       "1      Apple       10                     0                     0  1.0  0.0   \n",
       "2     Orange       15                     3                     3  0.0  0.0   \n",
       "3  Pineapple      500                     4                     4  0.0  0.0   \n",
       "4      Grape        4                     1                     1  0.0  1.0   \n",
       "\n",
       "     2    3    4  \n",
       "0  1.0  0.0  0.0  \n",
       "1  0.0  0.0  0.0  \n",
       "2  0.0  1.0  0.0  \n",
       "3  0.0  0.0  1.0  \n",
       "4  0.0  0.0  0.0  "
      ]
     },
     "execution_count": 53,
     "metadata": {},
     "output_type": "execute_result"
    }
   ],
   "source": [
    "ohe_final_df"
   ]
  },
  {
   "cell_type": "markdown",
   "id": "a6decaec",
   "metadata": {},
   "source": [
    "Another way around this is by using **Dummy Values** approach in pandas"
   ]
  },
  {
   "cell_type": "code",
   "execution_count": 58,
   "id": "ecac8a64",
   "metadata": {},
   "outputs": [
    {
     "data": {
      "text/html": [
       "<div>\n",
       "<style scoped>\n",
       "    .dataframe tbody tr th:only-of-type {\n",
       "        vertical-align: middle;\n",
       "    }\n",
       "\n",
       "    .dataframe tbody tr th {\n",
       "        vertical-align: top;\n",
       "    }\n",
       "\n",
       "    .dataframe thead th {\n",
       "        text-align: right;\n",
       "    }\n",
       "</style>\n",
       "<table border=\"1\" class=\"dataframe\">\n",
       "  <thead>\n",
       "    <tr style=\"text-align: right;\">\n",
       "      <th></th>\n",
       "      <th>Fruit_type_Apple</th>\n",
       "      <th>Fruit_type_Grape</th>\n",
       "      <th>Fruit_type_Mango</th>\n",
       "      <th>Fruit_type_Orange</th>\n",
       "      <th>Fruit_type_Pineapple</th>\n",
       "    </tr>\n",
       "  </thead>\n",
       "  <tbody>\n",
       "    <tr>\n",
       "      <th>0</th>\n",
       "      <td>0</td>\n",
       "      <td>0</td>\n",
       "      <td>1</td>\n",
       "      <td>0</td>\n",
       "      <td>0</td>\n",
       "    </tr>\n",
       "    <tr>\n",
       "      <th>1</th>\n",
       "      <td>1</td>\n",
       "      <td>0</td>\n",
       "      <td>0</td>\n",
       "      <td>0</td>\n",
       "      <td>0</td>\n",
       "    </tr>\n",
       "    <tr>\n",
       "      <th>2</th>\n",
       "      <td>0</td>\n",
       "      <td>0</td>\n",
       "      <td>0</td>\n",
       "      <td>1</td>\n",
       "      <td>0</td>\n",
       "    </tr>\n",
       "    <tr>\n",
       "      <th>3</th>\n",
       "      <td>0</td>\n",
       "      <td>0</td>\n",
       "      <td>0</td>\n",
       "      <td>0</td>\n",
       "      <td>1</td>\n",
       "    </tr>\n",
       "    <tr>\n",
       "      <th>4</th>\n",
       "      <td>0</td>\n",
       "      <td>1</td>\n",
       "      <td>0</td>\n",
       "      <td>0</td>\n",
       "      <td>0</td>\n",
       "    </tr>\n",
       "  </tbody>\n",
       "</table>\n",
       "</div>"
      ],
      "text/plain": [
       "   Fruit_type_Apple  Fruit_type_Grape  Fruit_type_Mango  Fruit_type_Orange  \\\n",
       "0                 0                 0                 1                  0   \n",
       "1                 1                 0                 0                  0   \n",
       "2                 0                 0                 0                  1   \n",
       "3                 0                 0                 0                  0   \n",
       "4                 0                 1                 0                  0   \n",
       "\n",
       "   Fruit_type_Pineapple  \n",
       "0                     0  \n",
       "1                     0  \n",
       "2                     0  \n",
       "3                     1  \n",
       "4                     0  "
      ]
     },
     "execution_count": 58,
     "metadata": {},
     "output_type": "execute_result"
    }
   ],
   "source": [
    "dummy_df = pd.get_dummies(df[\"Fruits\"], prefix = \"Fruit_type\", columns=[\"Fruits\"])\n",
    "dummy_df"
   ]
  },
  {
   "cell_type": "code",
   "execution_count": 62,
   "id": "2f2a9b3c",
   "metadata": {},
   "outputs": [
    {
     "data": {
      "text/html": [
       "<style type=\"text/css\">\n",
       "#T_a158b_row0_col0, #T_a158b_row0_col1, #T_a158b_row0_col3, #T_a158b_row0_col4, #T_a158b_row1_col1, #T_a158b_row1_col2, #T_a158b_row1_col3, #T_a158b_row1_col4, #T_a158b_row2_col0, #T_a158b_row2_col1, #T_a158b_row2_col2, #T_a158b_row2_col4, #T_a158b_row3_col0, #T_a158b_row3_col1, #T_a158b_row3_col2, #T_a158b_row3_col3, #T_a158b_row4_col0, #T_a158b_row4_col2, #T_a158b_row4_col3, #T_a158b_row4_col4 {\n",
       "  background-color: blue;\n",
       "}\n",
       "#T_a158b_row0_col2, #T_a158b_row1_col0, #T_a158b_row2_col3, #T_a158b_row3_col4, #T_a158b_row4_col1 {\n",
       "  background-color: yellow;\n",
       "}\n",
       "</style>\n",
       "<table id=\"T_a158b_\">\n",
       "  <thead>\n",
       "    <tr>\n",
       "      <th class=\"blank level0\" >&nbsp;</th>\n",
       "      <th class=\"col_heading level0 col0\" >Fruit_type_Apple</th>\n",
       "      <th class=\"col_heading level0 col1\" >Fruit_type_Grape</th>\n",
       "      <th class=\"col_heading level0 col2\" >Fruit_type_Mango</th>\n",
       "      <th class=\"col_heading level0 col3\" >Fruit_type_Orange</th>\n",
       "      <th class=\"col_heading level0 col4\" >Fruit_type_Pineapple</th>\n",
       "    </tr>\n",
       "  </thead>\n",
       "  <tbody>\n",
       "    <tr>\n",
       "      <th id=\"T_a158b_level0_row0\" class=\"row_heading level0 row0\" >0</th>\n",
       "      <td id=\"T_a158b_row0_col0\" class=\"data row0 col0\" >0</td>\n",
       "      <td id=\"T_a158b_row0_col1\" class=\"data row0 col1\" >0</td>\n",
       "      <td id=\"T_a158b_row0_col2\" class=\"data row0 col2\" >1</td>\n",
       "      <td id=\"T_a158b_row0_col3\" class=\"data row0 col3\" >0</td>\n",
       "      <td id=\"T_a158b_row0_col4\" class=\"data row0 col4\" >0</td>\n",
       "    </tr>\n",
       "    <tr>\n",
       "      <th id=\"T_a158b_level0_row1\" class=\"row_heading level0 row1\" >1</th>\n",
       "      <td id=\"T_a158b_row1_col0\" class=\"data row1 col0\" >1</td>\n",
       "      <td id=\"T_a158b_row1_col1\" class=\"data row1 col1\" >0</td>\n",
       "      <td id=\"T_a158b_row1_col2\" class=\"data row1 col2\" >0</td>\n",
       "      <td id=\"T_a158b_row1_col3\" class=\"data row1 col3\" >0</td>\n",
       "      <td id=\"T_a158b_row1_col4\" class=\"data row1 col4\" >0</td>\n",
       "    </tr>\n",
       "    <tr>\n",
       "      <th id=\"T_a158b_level0_row2\" class=\"row_heading level0 row2\" >2</th>\n",
       "      <td id=\"T_a158b_row2_col0\" class=\"data row2 col0\" >0</td>\n",
       "      <td id=\"T_a158b_row2_col1\" class=\"data row2 col1\" >0</td>\n",
       "      <td id=\"T_a158b_row2_col2\" class=\"data row2 col2\" >0</td>\n",
       "      <td id=\"T_a158b_row2_col3\" class=\"data row2 col3\" >1</td>\n",
       "      <td id=\"T_a158b_row2_col4\" class=\"data row2 col4\" >0</td>\n",
       "    </tr>\n",
       "    <tr>\n",
       "      <th id=\"T_a158b_level0_row3\" class=\"row_heading level0 row3\" >3</th>\n",
       "      <td id=\"T_a158b_row3_col0\" class=\"data row3 col0\" >0</td>\n",
       "      <td id=\"T_a158b_row3_col1\" class=\"data row3 col1\" >0</td>\n",
       "      <td id=\"T_a158b_row3_col2\" class=\"data row3 col2\" >0</td>\n",
       "      <td id=\"T_a158b_row3_col3\" class=\"data row3 col3\" >0</td>\n",
       "      <td id=\"T_a158b_row3_col4\" class=\"data row3 col4\" >1</td>\n",
       "    </tr>\n",
       "    <tr>\n",
       "      <th id=\"T_a158b_level0_row4\" class=\"row_heading level0 row4\" >4</th>\n",
       "      <td id=\"T_a158b_row4_col0\" class=\"data row4 col0\" >0</td>\n",
       "      <td id=\"T_a158b_row4_col1\" class=\"data row4 col1\" >1</td>\n",
       "      <td id=\"T_a158b_row4_col2\" class=\"data row4 col2\" >0</td>\n",
       "      <td id=\"T_a158b_row4_col3\" class=\"data row4 col3\" >0</td>\n",
       "      <td id=\"T_a158b_row4_col4\" class=\"data row4 col4\" >0</td>\n",
       "    </tr>\n",
       "  </tbody>\n",
       "</table>\n"
      ],
      "text/plain": [
       "<pandas.io.formats.style.Styler at 0x7f606d3f3a30>"
      ]
     },
     "execution_count": 62,
     "metadata": {},
     "output_type": "execute_result"
    }
   ],
   "source": [
    "dummy_df.style.applymap(lambda x: \"background-color: yellow\" if x>0 else \"background-color: blue\")"
   ]
  },
  {
   "cell_type": "markdown",
   "id": "e8c55af1",
   "metadata": {},
   "source": [
    "## When To Apply Which Method"
   ]
  },
  {
   "cell_type": "markdown",
   "id": "d304a390",
   "metadata": {},
   "source": [
    "Apply Lable Encoding, when we have at most two categorical values to encode. This will not bring a problem of hierarchy.\n",
    "\n",
    "On the other hand we use One Hot Encoding when we have multiple values more than just two values this helps to deal with hierarchical ordering."
   ]
  }
 ],
 "metadata": {
  "kernelspec": {
   "display_name": "Python 3",
   "language": "python",
   "name": "python3"
  },
  "language_info": {
   "codemirror_mode": {
    "name": "ipython",
    "version": 3
   },
   "file_extension": ".py",
   "mimetype": "text/x-python",
   "name": "python",
   "nbconvert_exporter": "python",
   "pygments_lexer": "ipython3",
   "version": "3.8.10"
  }
 },
 "nbformat": 4,
 "nbformat_minor": 5
}
