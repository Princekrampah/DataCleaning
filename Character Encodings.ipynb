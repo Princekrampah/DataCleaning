{
 "cells": [
  {
   "cell_type": "markdown",
   "id": "5c8647c9",
   "metadata": {},
   "source": [
    "# Character Encodings"
   ]
  },
  {
   "cell_type": "markdown",
   "id": "94ab33fa",
   "metadata": {},
   "source": [
    "As a data scientist you get to work with data that comes in different formats and encodings. This may lead to problems when trying to use the data in different taks like in Pandas dataframes or just reading the file from memory or CSV file. Due to this reason, we need to decode and encode the data into a format that we can use."
   ]
  },
  {
   "cell_type": "markdown",
   "id": "67be5447",
   "metadata": {},
   "source": [
    "## Text Encoding\n",
    "\n",
    "To understand this in depth, we need to understand how text is encoded and decoded in Python programming language. Its important to keep in mind, computers only work with numbers hence, for a computer to store text, it first needs to convert the text into characters first."
   ]
  },
  {
   "cell_type": "markdown",
   "id": "25e2ddc4",
   "metadata": {},
   "source": [
    "A computers basic unit of storage is the **bytes**. A computers stores numbers that can be converted back into different formats to work with. This is also true for text. Computers store text inform of numbers. To understand this, lets get to a quick example of how this works."
   ]
  },
  {
   "cell_type": "code",
   "execution_count": 27,
   "id": "230c3b81",
   "metadata": {},
   "outputs": [],
   "source": [
    "msg = \"Hello world\""
   ]
  },
  {
   "cell_type": "code",
   "execution_count": 28,
   "id": "ba51407a",
   "metadata": {},
   "outputs": [],
   "source": [
    "encoded_msg = msg.encode('utf-8')"
   ]
  },
  {
   "cell_type": "code",
   "execution_count": 29,
   "id": "55384132",
   "metadata": {},
   "outputs": [],
   "source": [
    "encoded_msg = str.encode(msg)"
   ]
  },
  {
   "cell_type": "code",
   "execution_count": 30,
   "id": "d2f495ac",
   "metadata": {},
   "outputs": [
    {
     "data": {
      "text/plain": [
       "bytes"
      ]
     },
     "execution_count": 30,
     "metadata": {},
     "output_type": "execute_result"
    }
   ],
   "source": [
    "type(encoded_msg)"
   ]
  },
  {
   "cell_type": "code",
   "execution_count": 31,
   "id": "e7d1292e",
   "metadata": {},
   "outputs": [
    {
     "data": {
      "text/plain": [
       "b'Hello world'"
      ]
     },
     "execution_count": 31,
     "metadata": {},
     "output_type": "execute_result"
    }
   ],
   "source": [
    "encoded_msg"
   ]
  },
  {
   "cell_type": "code",
   "execution_count": 32,
   "id": "3ce6c8f1",
   "metadata": {},
   "outputs": [
    {
     "data": {
      "text/plain": [
       "[72, 101, 108, 108, 111, 32, 119, 111, 114, 108, 100]"
      ]
     },
     "execution_count": 32,
     "metadata": {},
     "output_type": "execute_result"
    }
   ],
   "source": [
    "list(encoded_msg)"
   ]
  },
  {
   "cell_type": "code",
   "execution_count": 33,
   "id": "4a2e1fde",
   "metadata": {},
   "outputs": [
    {
     "data": {
      "text/plain": [
       "11"
      ]
     },
     "execution_count": 33,
     "metadata": {},
     "output_type": "execute_result"
    }
   ],
   "source": [
    "len(msg)"
   ]
  },
  {
   "cell_type": "code",
   "execution_count": 34,
   "id": "ea7a9ca8",
   "metadata": {},
   "outputs": [
    {
     "data": {
      "text/plain": [
       "11"
      ]
     },
     "execution_count": 34,
     "metadata": {},
     "output_type": "execute_result"
    }
   ],
   "source": [
    "len(list(encoded_msg))"
   ]
  },
  {
   "cell_type": "markdown",
   "id": "2716aabd",
   "metadata": {},
   "source": [
    "From the example shown, you can clearly see that each character making the text is converted into a number, that is the reason the **len** of the text and list of the encoded text are the same. Okay where are this numbers coming from you might ask. Well this are a UTF-8 character codes, take a look [here](https://www.smashingmagazine.com/2012/06/all-about-unicode-utf8-character-sets/) for more info"
   ]
  },
  {
   "cell_type": "markdown",
   "id": "a8b02fdc",
   "metadata": {},
   "source": [
    "In this video we are not going to jump into the little thinny details of how UTF-8 works, for more info read [thi](https://en.wikipedia.org/wiki/UTF-8)s article from wikipedia"
   ]
  },
  {
   "cell_type": "markdown",
   "id": "894dec8a",
   "metadata": {},
   "source": [
    "The first element of the list is **72** this is the code for **H** in utf-8. To confirm this in Python..."
   ]
  },
  {
   "cell_type": "code",
   "execution_count": 35,
   "id": "238b2a8b",
   "metadata": {},
   "outputs": [
    {
     "data": {
      "text/plain": [
       "72"
      ]
     },
     "execution_count": 35,
     "metadata": {},
     "output_type": "execute_result"
    }
   ],
   "source": [
    "ord(\"H\")"
   ]
  },
  {
   "cell_type": "markdown",
   "id": "77df765e",
   "metadata": {},
   "source": [
    "For a quick test, you can pause the video and try this out with other characters."
   ]
  },
  {
   "cell_type": "markdown",
   "id": "2bbf9e0a",
   "metadata": {},
   "source": [
    "#### Demo"
   ]
  },
  {
   "cell_type": "code",
   "execution_count": 36,
   "id": "bdf44ff6",
   "metadata": {},
   "outputs": [
    {
     "name": "stdout",
     "output_type": "stream",
     "text": [
      "72\n",
      "101\n",
      "108\n",
      "108\n",
      "111\n",
      "32\n",
      "119\n",
      "111\n",
      "114\n",
      "108\n",
      "100\n"
     ]
    }
   ],
   "source": [
    "for char in \"Hello world\":\n",
    "    print(ord(char))"
   ]
  },
  {
   "cell_type": "markdown",
   "id": "8fc438ae",
   "metadata": {},
   "source": [
    "The code above shows how we came about getting this values."
   ]
  },
  {
   "cell_type": "markdown",
   "id": "56bd60cf",
   "metadata": {},
   "source": [
    "## UTF-8 support\n",
    "\n",
    "UTF-8 supports many characters included the ones from other languages and emojis as well. To try this out..."
   ]
  },
  {
   "cell_type": "code",
   "execution_count": 37,
   "id": "1d352aee",
   "metadata": {},
   "outputs": [],
   "source": [
    "text = \"Hello world 😉\"\n",
    "encoded_text = text.encode()"
   ]
  },
  {
   "cell_type": "code",
   "execution_count": 38,
   "id": "016255c5",
   "metadata": {},
   "outputs": [
    {
     "data": {
      "text/plain": [
       "bytes"
      ]
     },
     "execution_count": 38,
     "metadata": {},
     "output_type": "execute_result"
    }
   ],
   "source": [
    "type(encoded_text)"
   ]
  },
  {
   "cell_type": "code",
   "execution_count": 39,
   "id": "a678c07b",
   "metadata": {},
   "outputs": [
    {
     "data": {
      "text/plain": [
       "16"
      ]
     },
     "execution_count": 39,
     "metadata": {},
     "output_type": "execute_result"
    }
   ],
   "source": [
    "len(encoded_text)"
   ]
  },
  {
   "cell_type": "code",
   "execution_count": 40,
   "id": "7728b3ed",
   "metadata": {},
   "outputs": [
    {
     "data": {
      "text/plain": [
       "[72, 101, 108, 108, 111, 32, 119, 111, 114, 108, 100, 32, 240, 159, 152, 137]"
      ]
     },
     "execution_count": 40,
     "metadata": {},
     "output_type": "execute_result"
    }
   ],
   "source": [
    "list(encoded_text)"
   ]
  },
  {
   "cell_type": "code",
   "execution_count": 41,
   "id": "9f7a02ee",
   "metadata": {},
   "outputs": [
    {
     "data": {
      "text/plain": [
       "b'Hello world \\xf0\\x9f\\x98\\x89'"
      ]
     },
     "execution_count": 41,
     "metadata": {},
     "output_type": "execute_result"
    }
   ],
   "source": [
    "encoded_text"
   ]
  },
  {
   "cell_type": "markdown",
   "id": "ac184152",
   "metadata": {},
   "source": [
    "One important thing you need to notice is that, UTF-8 characters encoding was used to encode the text hence, must be used as well during decoding the text. Lets try to decode the **encode_text** using another encoding format"
   ]
  },
  {
   "cell_type": "code",
   "execution_count": 42,
   "id": "905e1d7e",
   "metadata": {},
   "outputs": [
    {
     "ename": "UnicodeDecodeError",
     "evalue": "'ascii' codec can't decode byte 0xf0 in position 12: ordinal not in range(128)",
     "output_type": "error",
     "traceback": [
      "\u001b[0;31m---------------------------------------------------------------------------\u001b[0m",
      "\u001b[0;31mUnicodeDecodeError\u001b[0m                        Traceback (most recent call last)",
      "\u001b[0;32m<ipython-input-42-b02f7df0d836>\u001b[0m in \u001b[0;36m<module>\u001b[0;34m\u001b[0m\n\u001b[0;32m----> 1\u001b[0;31m \u001b[0mencoded_text\u001b[0m\u001b[0;34m.\u001b[0m\u001b[0mdecode\u001b[0m\u001b[0;34m(\u001b[0m\u001b[0;34m\"ascii\"\u001b[0m\u001b[0;34m)\u001b[0m\u001b[0;34m\u001b[0m\u001b[0;34m\u001b[0m\u001b[0m\n\u001b[0m",
      "\u001b[0;31mUnicodeDecodeError\u001b[0m: 'ascii' codec can't decode byte 0xf0 in position 12: ordinal not in range(128)"
     ]
    }
   ],
   "source": [
    "encoded_text.decode(\"ascii\")"
   ]
  },
  {
   "cell_type": "code",
   "execution_count": 43,
   "id": "c1158ac5",
   "metadata": {},
   "outputs": [
    {
     "data": {
      "text/plain": [
       "'Hello world 😉'"
      ]
     },
     "execution_count": 43,
     "metadata": {},
     "output_type": "execute_result"
    }
   ],
   "source": [
    "encoded_text.decode()"
   ]
  },
  {
   "cell_type": "markdown",
   "id": "ddf445d1",
   "metadata": {},
   "source": [
    "## How Do I Know Which To Use To Decode My Data?\n",
    "\n",
    "This can be a difficult thing since you can tell what encoding format was used to encode the data, but you can find out. This is what leads to error since you are trying to decode data that was encoded in another format."
   ]
  },
  {
   "cell_type": "code",
   "execution_count": 46,
   "id": "650bbdc6",
   "metadata": {},
   "outputs": [
    {
     "data": {
      "text/plain": [
       "{'encoding': 'Windows-1254',\n",
       " 'confidence': 0.3036647364631782,\n",
       " 'language': 'Turkish'}"
      ]
     },
     "execution_count": 46,
     "metadata": {},
     "output_type": "execute_result"
    }
   ],
   "source": [
    "import chardet\n",
    "\n",
    "chardet.detect(encoded_text)"
   ]
  },
  {
   "cell_type": "code",
   "execution_count": 54,
   "id": "b378a08d",
   "metadata": {},
   "outputs": [],
   "source": [
    "test_text = \"Hello\"\n",
    "encoded_test = test_text.encode(\"utf-8\")"
   ]
  },
  {
   "cell_type": "code",
   "execution_count": 55,
   "id": "9ce0299b",
   "metadata": {},
   "outputs": [
    {
     "data": {
      "text/plain": [
       "{'encoding': 'ascii', 'confidence': 1.0, 'language': ''}"
      ]
     },
     "execution_count": 55,
     "metadata": {},
     "output_type": "execute_result"
    }
   ],
   "source": [
    "chardet.detect(encoded_test)"
   ]
  },
  {
   "cell_type": "markdown",
   "id": "0d010c9f",
   "metadata": {},
   "source": [
    "From the example you can agree with me that, this is not a reliable approach to doing this. This is what leads to errors when reading data of which we can not tell its encoding. Its better if we know it than trying to predict or guess the value By default Python uses **UFT-8**."
   ]
  },
  {
   "cell_type": "markdown",
   "id": "4d9f7270",
   "metadata": {},
   "source": [
    "If you try to encode and decode text without specifying the encoding, Python will automatically use the **UFT-8**. Try this out on your own."
   ]
  },
  {
   "cell_type": "markdown",
   "id": "c1e0cc77",
   "metadata": {},
   "source": [
    "Some this when reading data with a different encoding might not give you an error but the output will be wront. Example..."
   ]
  },
  {
   "cell_type": "code",
   "execution_count": 59,
   "id": "eaa22f45",
   "metadata": {},
   "outputs": [],
   "source": [
    "test_text = \"Hello 😉\"\n",
    "encoded_test = test_text.encode(\"utf-8\")"
   ]
  },
  {
   "cell_type": "code",
   "execution_count": 60,
   "id": "c0a6e80c",
   "metadata": {},
   "outputs": [
    {
     "data": {
      "text/plain": [
       "'Hello 😉'"
      ]
     },
     "execution_count": 60,
     "metadata": {},
     "output_type": "execute_result"
    }
   ],
   "source": [
    "encoded_test.decode()"
   ]
  },
  {
   "cell_type": "code",
   "execution_count": 61,
   "id": "66b649ae",
   "metadata": {},
   "outputs": [
    {
     "data": {
      "text/plain": [
       "'Hello ð\\x9f\\x98\\x89'"
      ]
     },
     "execution_count": 61,
     "metadata": {},
     "output_type": "execute_result"
    }
   ],
   "source": [
    "encoded_test.decode(\"latin1\")"
   ]
  },
  {
   "cell_type": "markdown",
   "id": "0b09ed8c",
   "metadata": {},
   "source": [
    "This is because, **latin1** is not capable to encode and decode the emoji. Proof..."
   ]
  },
  {
   "cell_type": "code",
   "execution_count": 62,
   "id": "48850816",
   "metadata": {
    "scrolled": true
   },
   "outputs": [
    {
     "ename": "UnicodeEncodeError",
     "evalue": "'latin-1' codec can't encode character '\\U0001f609' in position 6: ordinal not in range(256)",
     "output_type": "error",
     "traceback": [
      "\u001b[0;31m---------------------------------------------------------------------------\u001b[0m",
      "\u001b[0;31mUnicodeEncodeError\u001b[0m                        Traceback (most recent call last)",
      "\u001b[0;32m<ipython-input-62-4e73dfa119bf>\u001b[0m in \u001b[0;36m<module>\u001b[0;34m\u001b[0m\n\u001b[0;32m----> 1\u001b[0;31m \u001b[0mencoded_test\u001b[0m \u001b[0;34m=\u001b[0m \u001b[0mtest_text\u001b[0m\u001b[0;34m.\u001b[0m\u001b[0mencode\u001b[0m\u001b[0;34m(\u001b[0m\u001b[0;34m\"latin1\"\u001b[0m\u001b[0;34m)\u001b[0m\u001b[0;34m\u001b[0m\u001b[0;34m\u001b[0m\u001b[0m\n\u001b[0m",
      "\u001b[0;31mUnicodeEncodeError\u001b[0m: 'latin-1' codec can't encode character '\\U0001f609' in position 6: ordinal not in range(256)"
     ]
    }
   ],
   "source": [
    "encoded_test = test_text.encode(\"latin1\")"
   ]
  },
  {
   "cell_type": "markdown",
   "id": "d5687acd",
   "metadata": {},
   "source": [
    "# Working With Pandas"
   ]
  },
  {
   "cell_type": "markdown",
   "id": "266694f0",
   "metadata": {},
   "source": [
    "Lets go ahead and apply the same knowledge to reading data in Pandas"
   ]
  },
  {
   "cell_type": "code",
   "execution_count": 63,
   "id": "28943639",
   "metadata": {},
   "outputs": [],
   "source": [
    "import pandas as pd"
   ]
  },
  {
   "cell_type": "code",
   "execution_count": 71,
   "id": "8567dd7d",
   "metadata": {},
   "outputs": [],
   "source": [
    "df = pd.read_csv(\"parsing_dates.csv\", encoding = \"ascii\")"
   ]
  },
  {
   "cell_type": "code",
   "execution_count": 72,
   "id": "594f078d",
   "metadata": {},
   "outputs": [
    {
     "data": {
      "text/html": [
       "<div>\n",
       "<style scoped>\n",
       "    .dataframe tbody tr th:only-of-type {\n",
       "        vertical-align: middle;\n",
       "    }\n",
       "\n",
       "    .dataframe tbody tr th {\n",
       "        vertical-align: top;\n",
       "    }\n",
       "\n",
       "    .dataframe thead th {\n",
       "        text-align: right;\n",
       "    }\n",
       "</style>\n",
       "<table border=\"1\" class=\"dataframe\">\n",
       "  <thead>\n",
       "    <tr style=\"text-align: right;\">\n",
       "      <th></th>\n",
       "      <th>2018-02-20</th>\n",
       "      <th>Dinning</th>\n",
       "      <th>200</th>\n",
       "    </tr>\n",
       "  </thead>\n",
       "  <tbody>\n",
       "    <tr>\n",
       "      <th>0</th>\n",
       "      <td>2019-03-23</td>\n",
       "      <td>Shopping</td>\n",
       "      <td>330</td>\n",
       "    </tr>\n",
       "    <tr>\n",
       "      <th>1</th>\n",
       "      <td>2020-09-20</td>\n",
       "      <td>Jogging</td>\n",
       "      <td>400</td>\n",
       "    </tr>\n",
       "    <tr>\n",
       "      <th>2</th>\n",
       "      <td>2021-10-04</td>\n",
       "      <td>Partying</td>\n",
       "      <td>500</td>\n",
       "    </tr>\n",
       "    <tr>\n",
       "      <th>3</th>\n",
       "      <td>2022-11-09</td>\n",
       "      <td>Coding</td>\n",
       "      <td>20</td>\n",
       "    </tr>\n",
       "  </tbody>\n",
       "</table>\n",
       "</div>"
      ],
      "text/plain": [
       "   2018-02-20   Dinning  200\n",
       "0  2019-03-23  Shopping  330\n",
       "1  2020-09-20   Jogging  400\n",
       "2  2021-10-04  Partying  500\n",
       "3  2022-11-09    Coding   20"
      ]
     },
     "execution_count": 72,
     "metadata": {},
     "output_type": "execute_result"
    }
   ],
   "source": [
    "df"
   ]
  },
  {
   "cell_type": "markdown",
   "id": "1d19fea1",
   "metadata": {},
   "source": [
    "In this case all the encoding types worked perfectly, this may not be the case for some datasets, to be on the safe side try to test this out."
   ]
  },
  {
   "cell_type": "code",
   "execution_count": 73,
   "id": "67357f55",
   "metadata": {},
   "outputs": [],
   "source": [
    "with open('parsing_dates.csv', 'rb') as rawdata:\n",
    "    result = chardet.detect(rawdata.read(10000))"
   ]
  },
  {
   "cell_type": "code",
   "execution_count": 75,
   "id": "c721a5fd",
   "metadata": {},
   "outputs": [
    {
     "data": {
      "text/plain": [
       "{'encoding': 'ascii', 'confidence': 1.0, 'language': ''}"
      ]
     },
     "execution_count": 75,
     "metadata": {},
     "output_type": "execute_result"
    }
   ],
   "source": [
    "result"
   ]
  },
  {
   "cell_type": "code",
   "execution_count": 77,
   "id": "48c2122c",
   "metadata": {
    "scrolled": true
   },
   "outputs": [
    {
     "data": {
      "text/html": [
       "<div>\n",
       "<style scoped>\n",
       "    .dataframe tbody tr th:only-of-type {\n",
       "        vertical-align: middle;\n",
       "    }\n",
       "\n",
       "    .dataframe tbody tr th {\n",
       "        vertical-align: top;\n",
       "    }\n",
       "\n",
       "    .dataframe thead th {\n",
       "        text-align: right;\n",
       "    }\n",
       "</style>\n",
       "<table border=\"1\" class=\"dataframe\">\n",
       "  <thead>\n",
       "    <tr style=\"text-align: right;\">\n",
       "      <th></th>\n",
       "      <th>2018-02-20</th>\n",
       "      <th>Dinning</th>\n",
       "      <th>200</th>\n",
       "    </tr>\n",
       "  </thead>\n",
       "  <tbody>\n",
       "    <tr>\n",
       "      <th>0</th>\n",
       "      <td>2019-03-23</td>\n",
       "      <td>Shopping</td>\n",
       "      <td>330</td>\n",
       "    </tr>\n",
       "    <tr>\n",
       "      <th>1</th>\n",
       "      <td>2020-09-20</td>\n",
       "      <td>Jogging</td>\n",
       "      <td>400</td>\n",
       "    </tr>\n",
       "    <tr>\n",
       "      <th>2</th>\n",
       "      <td>2021-10-04</td>\n",
       "      <td>Partying</td>\n",
       "      <td>500</td>\n",
       "    </tr>\n",
       "    <tr>\n",
       "      <th>3</th>\n",
       "      <td>2022-11-09</td>\n",
       "      <td>Coding</td>\n",
       "      <td>20</td>\n",
       "    </tr>\n",
       "  </tbody>\n",
       "</table>\n",
       "</div>"
      ],
      "text/plain": [
       "   2018-02-20   Dinning  200\n",
       "0  2019-03-23  Shopping  330\n",
       "1  2020-09-20   Jogging  400\n",
       "2  2021-10-04  Partying  500\n",
       "3  2022-11-09    Coding   20"
      ]
     },
     "execution_count": 77,
     "metadata": {},
     "output_type": "execute_result"
    }
   ],
   "source": [
    "df = pd.read_csv(\"parsing_dates.csv\", encoding = \"ascii\")\n",
    "df"
   ]
  },
  {
   "cell_type": "markdown",
   "id": "a1b01687",
   "metadata": {},
   "source": [
    "## Conclusion\n",
    "\n",
    "When getting encoding error when reading a CSV file, maybe because someone wrote the file in another encoding format. Its only important that you decode it using the right encoding used to encode it. Thanks for watching."
   ]
  }
 ],
 "metadata": {
  "kernelspec": {
   "display_name": "Python 3",
   "language": "python",
   "name": "python3"
  },
  "language_info": {
   "codemirror_mode": {
    "name": "ipython",
    "version": 3
   },
   "file_extension": ".py",
   "mimetype": "text/x-python",
   "name": "python",
   "nbconvert_exporter": "python",
   "pygments_lexer": "ipython3",
   "version": "3.8.10"
  }
 },
 "nbformat": 4,
 "nbformat_minor": 5
}
