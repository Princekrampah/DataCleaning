{
 "cells": [
  {
   "cell_type": "markdown",
   "id": "710e9224",
   "metadata": {},
   "source": [
    "## Parsing Dates"
   ]
  },
  {
   "cell_type": "markdown",
   "id": "371b4dac",
   "metadata": {},
   "source": [
    "Date parsing in an important part of data cleaning especially when it comes to the fact that you have to work with dates.\n",
    "\n",
    "Its a common occurence for dates to be stored in different formats and most times as string data types. This makes the date columns to be treated as \"Object\" type instead of date type.\n",
    "\n",
    "The process of taking a string and identifying its component parts and being able to convert it into dates is called **parsing dates**."
   ]
  },
  {
   "cell_type": "markdown",
   "id": "65c5bfd2",
   "metadata": {},
   "source": [
    "Dates can come in different formats example:\n",
    "\n",
    "**1/17/07 has the format \"%m/%d/%y\"**\n",
    "\n",
    "**17-1-2007 has the format \"%d-%m-%Y\"**\n",
    "\n",
    "Take a look at the different strftimes [strftime docs](https://strftime.org/)"
   ]
  },
  {
   "cell_type": "markdown",
   "id": "ec2d5073",
   "metadata": {},
   "source": [
    "By default pandas can figure out the date column and do the string to date convertion automatically. This has a downside to it, its slow and pandas is not always correct."
   ]
  },
  {
   "cell_type": "code",
   "execution_count": 211,
   "id": "15a19498",
   "metadata": {},
   "outputs": [],
   "source": [
    "import pandas as pd\n",
    "import numpy as np"
   ]
  },
  {
   "cell_type": "code",
   "execution_count": 212,
   "id": "8a4d15d6",
   "metadata": {
    "scrolled": true
   },
   "outputs": [],
   "source": [
    "df = pd.read_csv(\"parsing_dates.csv\")"
   ]
  },
  {
   "cell_type": "code",
   "execution_count": 213,
   "id": "9dd11abc",
   "metadata": {},
   "outputs": [],
   "source": [
    "# df.to_csv(\"parsing_dates.csv\", index=False, header = False)"
   ]
  },
  {
   "cell_type": "markdown",
   "id": "1afb66d1",
   "metadata": {},
   "source": [
    "## 4 Tricks Dealing With Parsing Dates\n",
    "\n",
    "1. Letting Pandas Figure out And Parse The Date Columns\n",
    "2. Day Time First Format"
   ]
  },
  {
   "cell_type": "markdown",
   "id": "d9a2e4e3",
   "metadata": {},
   "source": [
    "### 1. Letting pandas figure out and parse the date columns\n",
    "\n",
    "Pandas can be used to automatically format the date column, but when pandas reads a df its by type an **Object**, we need to manually convert it into a date column."
   ]
  },
  {
   "cell_type": "code",
   "execution_count": 214,
   "id": "b5c29784",
   "metadata": {},
   "outputs": [
    {
     "name": "stdout",
     "output_type": "stream",
     "text": [
      "<class 'pandas.core.frame.DataFrame'>\n",
      "RangeIndex: 4 entries, 0 to 3\n",
      "Data columns (total 3 columns):\n",
      " #   Column      Non-Null Count  Dtype \n",
      "---  ------      --------------  ----- \n",
      " 0   2018-02-20  4 non-null      object\n",
      " 1   Dinning     4 non-null      object\n",
      " 2   200         4 non-null      int64 \n",
      "dtypes: int64(1), object(2)\n",
      "memory usage: 224.0+ bytes\n"
     ]
    }
   ],
   "source": [
    "df.info()"
   ]
  },
  {
   "cell_type": "code",
   "execution_count": 215,
   "id": "ea024892",
   "metadata": {},
   "outputs": [
    {
     "data": {
      "text/plain": [
       "2018-02-20    object\n",
       "Dinning       object\n",
       "200            int64\n",
       "dtype: object"
      ]
     },
     "execution_count": 215,
     "metadata": {},
     "output_type": "execute_result"
    }
   ],
   "source": [
    "df.dtypes"
   ]
  },
  {
   "cell_type": "markdown",
   "id": "a999e101",
   "metadata": {},
   "source": [
    "To properly read the date time we need to parse it using ``parse_dates`` when reading the CSV using ``read_csv``"
   ]
  },
  {
   "cell_type": "code",
   "execution_count": 216,
   "id": "f08cb498",
   "metadata": {},
   "outputs": [
    {
     "name": "stdout",
     "output_type": "stream",
     "text": [
      "<class 'pandas.core.frame.DataFrame'>\n",
      "RangeIndex: 5 entries, 0 to 4\n",
      "Data columns (total 3 columns):\n",
      " #   Column  Non-Null Count  Dtype         \n",
      "---  ------  --------------  -----         \n",
      " 0   Date    5 non-null      datetime64[ns]\n",
      " 1   Event   5 non-null      object        \n",
      " 2   Cost    5 non-null      int64         \n",
      "dtypes: datetime64[ns](1), int64(1), object(1)\n",
      "memory usage: 248.0+ bytes\n"
     ]
    }
   ],
   "source": [
    "df = pd.read_csv(\"parsing_dates.csv\", parse_dates=[\"Date\"], names = [\"Date\", \"Event\", \"Cost\"])\n",
    "df.info()"
   ]
  },
  {
   "cell_type": "code",
   "execution_count": 217,
   "id": "e743b933",
   "metadata": {},
   "outputs": [
    {
     "data": {
      "text/plain": [
       "Date     datetime64[ns]\n",
       "Event            object\n",
       "Cost              int64\n",
       "dtype: object"
      ]
     },
     "execution_count": 217,
     "metadata": {},
     "output_type": "execute_result"
    }
   ],
   "source": [
    "df.dtypes"
   ]
  },
  {
   "cell_type": "code",
   "execution_count": 218,
   "id": "fb908591",
   "metadata": {},
   "outputs": [
    {
     "data": {
      "text/html": [
       "<div>\n",
       "<style scoped>\n",
       "    .dataframe tbody tr th:only-of-type {\n",
       "        vertical-align: middle;\n",
       "    }\n",
       "\n",
       "    .dataframe tbody tr th {\n",
       "        vertical-align: top;\n",
       "    }\n",
       "\n",
       "    .dataframe thead th {\n",
       "        text-align: right;\n",
       "    }\n",
       "</style>\n",
       "<table border=\"1\" class=\"dataframe\">\n",
       "  <thead>\n",
       "    <tr style=\"text-align: right;\">\n",
       "      <th></th>\n",
       "      <th>Date</th>\n",
       "      <th>Event</th>\n",
       "      <th>Cost</th>\n",
       "    </tr>\n",
       "  </thead>\n",
       "  <tbody>\n",
       "    <tr>\n",
       "      <th>0</th>\n",
       "      <td>2018-02-20</td>\n",
       "      <td>Dinning</td>\n",
       "      <td>200</td>\n",
       "    </tr>\n",
       "    <tr>\n",
       "      <th>1</th>\n",
       "      <td>2019-03-23</td>\n",
       "      <td>Shopping</td>\n",
       "      <td>330</td>\n",
       "    </tr>\n",
       "    <tr>\n",
       "      <th>2</th>\n",
       "      <td>2020-09-20</td>\n",
       "      <td>Jogging</td>\n",
       "      <td>400</td>\n",
       "    </tr>\n",
       "    <tr>\n",
       "      <th>3</th>\n",
       "      <td>2021-10-04</td>\n",
       "      <td>Partying</td>\n",
       "      <td>500</td>\n",
       "    </tr>\n",
       "    <tr>\n",
       "      <th>4</th>\n",
       "      <td>2022-11-09</td>\n",
       "      <td>Coding</td>\n",
       "      <td>20</td>\n",
       "    </tr>\n",
       "  </tbody>\n",
       "</table>\n",
       "</div>"
      ],
      "text/plain": [
       "        Date     Event  Cost\n",
       "0 2018-02-20   Dinning   200\n",
       "1 2019-03-23  Shopping   330\n",
       "2 2020-09-20   Jogging   400\n",
       "3 2021-10-04  Partying   500\n",
       "4 2022-11-09    Coding    20"
      ]
     },
     "execution_count": 218,
     "metadata": {},
     "output_type": "execute_result"
    }
   ],
   "source": [
    "df"
   ]
  },
  {
   "cell_type": "markdown",
   "id": "ce8ded10",
   "metadata": {},
   "source": [
    "## Day First Time Format\n",
    "\n",
    "By default, ``parse_dates`` argument will read the date in the time format starting with the **month** first. This kind of date format is not widely used in the rest of the world other than in the states. \n",
    "\n",
    "To know more about the different date formats used around the world, take a look at the [Python strftime docs cheatsheet](https://strftime.org/)"
   ]
  },
  {
   "cell_type": "markdown",
   "id": "e70c6197",
   "metadata": {},
   "source": [
    "We can decide to use the day first time format by using the ``parse_dates`` along with ``dayfirst``"
   ]
  },
  {
   "cell_type": "code",
   "execution_count": 219,
   "id": "5f771d8f",
   "metadata": {},
   "outputs": [],
   "source": [
    "df = pd.read_csv(\"parsing_dates.csv\", parse_dates=[\"Date\"], names = [\"Date\", \"Event\", \"Cost\"], dayfirst=True)"
   ]
  },
  {
   "cell_type": "code",
   "execution_count": 220,
   "id": "a583cfee",
   "metadata": {},
   "outputs": [
    {
     "data": {
      "text/html": [
       "<div>\n",
       "<style scoped>\n",
       "    .dataframe tbody tr th:only-of-type {\n",
       "        vertical-align: middle;\n",
       "    }\n",
       "\n",
       "    .dataframe tbody tr th {\n",
       "        vertical-align: top;\n",
       "    }\n",
       "\n",
       "    .dataframe thead th {\n",
       "        text-align: right;\n",
       "    }\n",
       "</style>\n",
       "<table border=\"1\" class=\"dataframe\">\n",
       "  <thead>\n",
       "    <tr style=\"text-align: right;\">\n",
       "      <th></th>\n",
       "      <th>Date</th>\n",
       "      <th>Event</th>\n",
       "      <th>Cost</th>\n",
       "    </tr>\n",
       "  </thead>\n",
       "  <tbody>\n",
       "    <tr>\n",
       "      <th>0</th>\n",
       "      <td>2018-02-20</td>\n",
       "      <td>Dinning</td>\n",
       "      <td>200</td>\n",
       "    </tr>\n",
       "    <tr>\n",
       "      <th>1</th>\n",
       "      <td>2019-03-23</td>\n",
       "      <td>Shopping</td>\n",
       "      <td>330</td>\n",
       "    </tr>\n",
       "    <tr>\n",
       "      <th>2</th>\n",
       "      <td>2020-09-20</td>\n",
       "      <td>Jogging</td>\n",
       "      <td>400</td>\n",
       "    </tr>\n",
       "    <tr>\n",
       "      <th>3</th>\n",
       "      <td>2021-10-04</td>\n",
       "      <td>Partying</td>\n",
       "      <td>500</td>\n",
       "    </tr>\n",
       "    <tr>\n",
       "      <th>4</th>\n",
       "      <td>2022-11-09</td>\n",
       "      <td>Coding</td>\n",
       "      <td>20</td>\n",
       "    </tr>\n",
       "  </tbody>\n",
       "</table>\n",
       "</div>"
      ],
      "text/plain": [
       "        Date     Event  Cost\n",
       "0 2018-02-20   Dinning   200\n",
       "1 2019-03-23  Shopping   330\n",
       "2 2020-09-20   Jogging   400\n",
       "3 2021-10-04  Partying   500\n",
       "4 2022-11-09    Coding    20"
      ]
     },
     "execution_count": 220,
     "metadata": {},
     "output_type": "execute_result"
    }
   ],
   "source": [
    "df"
   ]
  },
  {
   "cell_type": "markdown",
   "id": "73155922",
   "metadata": {},
   "source": [
    "### Combining Multiple Columns To Create Date Column.\n",
    "\n",
    "Sometimes in datasets, the columns have different columns that contain date information. You wish to apply this data and combine then to form a date field. We can do this using pandas."
   ]
  },
  {
   "cell_type": "code",
   "execution_count": 221,
   "id": "f1f12676",
   "metadata": {},
   "outputs": [],
   "source": [
    "df = pd.read_csv(\"parsing_dates2.csv\", parse_dates={\"date\": [\"Day\", \"Months\", \"Year\"]}, dayfirst=True)"
   ]
  },
  {
   "cell_type": "code",
   "execution_count": 222,
   "id": "24a882d9",
   "metadata": {},
   "outputs": [
    {
     "data": {
      "text/html": [
       "<div>\n",
       "<style scoped>\n",
       "    .dataframe tbody tr th:only-of-type {\n",
       "        vertical-align: middle;\n",
       "    }\n",
       "\n",
       "    .dataframe tbody tr th {\n",
       "        vertical-align: top;\n",
       "    }\n",
       "\n",
       "    .dataframe thead th {\n",
       "        text-align: right;\n",
       "    }\n",
       "</style>\n",
       "<table border=\"1\" class=\"dataframe\">\n",
       "  <thead>\n",
       "    <tr style=\"text-align: right;\">\n",
       "      <th></th>\n",
       "      <th>date</th>\n",
       "    </tr>\n",
       "  </thead>\n",
       "  <tbody>\n",
       "    <tr>\n",
       "      <th>0</th>\n",
       "      <td>2018-02-20</td>\n",
       "    </tr>\n",
       "    <tr>\n",
       "      <th>1</th>\n",
       "      <td>2019-03-23</td>\n",
       "    </tr>\n",
       "    <tr>\n",
       "      <th>2</th>\n",
       "      <td>2020-09-20</td>\n",
       "    </tr>\n",
       "    <tr>\n",
       "      <th>3</th>\n",
       "      <td>2021-10-04</td>\n",
       "    </tr>\n",
       "    <tr>\n",
       "      <th>4</th>\n",
       "      <td>2022-11-09</td>\n",
       "    </tr>\n",
       "  </tbody>\n",
       "</table>\n",
       "</div>"
      ],
      "text/plain": [
       "        date\n",
       "0 2018-02-20\n",
       "1 2019-03-23\n",
       "2 2020-09-20\n",
       "3 2021-10-04\n",
       "4 2022-11-09"
      ]
     },
     "execution_count": 222,
     "metadata": {},
     "output_type": "execute_result"
    }
   ],
   "source": [
    "df"
   ]
  },
  {
   "cell_type": "markdown",
   "id": "9fce0110",
   "metadata": {},
   "source": [
    "## Custom Date Parser"
   ]
  },
  {
   "cell_type": "code",
   "execution_count": 238,
   "id": "da8264cf",
   "metadata": {},
   "outputs": [],
   "source": [
    "from datetime import datetime\n",
    "\n",
    "custom_date_parser = lambda x: datetime.strptime(x, \"%Y-%d-%m\")\n",
    "date_parser = lambda date: datetime.strptime(date, '%Y-%m-%d')"
   ]
  },
  {
   "cell_type": "code",
   "execution_count": 239,
   "id": "a1a5516d",
   "metadata": {},
   "outputs": [],
   "source": [
    "df = pd.read_csv(\"parsing_dates.csv\", parse_dates=[\"Date\"], names = [\"Date\", \"Event\", \"Cost\"], date_parser = date_parser)"
   ]
  },
  {
   "cell_type": "code",
   "execution_count": 240,
   "id": "d7fc929b",
   "metadata": {},
   "outputs": [
    {
     "data": {
      "text/html": [
       "<div>\n",
       "<style scoped>\n",
       "    .dataframe tbody tr th:only-of-type {\n",
       "        vertical-align: middle;\n",
       "    }\n",
       "\n",
       "    .dataframe tbody tr th {\n",
       "        vertical-align: top;\n",
       "    }\n",
       "\n",
       "    .dataframe thead th {\n",
       "        text-align: right;\n",
       "    }\n",
       "</style>\n",
       "<table border=\"1\" class=\"dataframe\">\n",
       "  <thead>\n",
       "    <tr style=\"text-align: right;\">\n",
       "      <th></th>\n",
       "      <th>Date</th>\n",
       "      <th>Event</th>\n",
       "      <th>Cost</th>\n",
       "    </tr>\n",
       "  </thead>\n",
       "  <tbody>\n",
       "    <tr>\n",
       "      <th>0</th>\n",
       "      <td>2018-02-20</td>\n",
       "      <td>Dinning</td>\n",
       "      <td>200</td>\n",
       "    </tr>\n",
       "    <tr>\n",
       "      <th>1</th>\n",
       "      <td>2019-03-23</td>\n",
       "      <td>Shopping</td>\n",
       "      <td>330</td>\n",
       "    </tr>\n",
       "    <tr>\n",
       "      <th>2</th>\n",
       "      <td>2020-09-20</td>\n",
       "      <td>Jogging</td>\n",
       "      <td>400</td>\n",
       "    </tr>\n",
       "    <tr>\n",
       "      <th>3</th>\n",
       "      <td>2021-10-04</td>\n",
       "      <td>Partying</td>\n",
       "      <td>500</td>\n",
       "    </tr>\n",
       "    <tr>\n",
       "      <th>4</th>\n",
       "      <td>2022-11-09</td>\n",
       "      <td>Coding</td>\n",
       "      <td>20</td>\n",
       "    </tr>\n",
       "  </tbody>\n",
       "</table>\n",
       "</div>"
      ],
      "text/plain": [
       "        Date     Event  Cost\n",
       "0 2018-02-20   Dinning   200\n",
       "1 2019-03-23  Shopping   330\n",
       "2 2020-09-20   Jogging   400\n",
       "3 2021-10-04  Partying   500\n",
       "4 2022-11-09    Coding    20"
      ]
     },
     "execution_count": 240,
     "metadata": {},
     "output_type": "execute_result"
    }
   ],
   "source": [
    "df"
   ]
  },
  {
   "cell_type": "code",
   "execution_count": 241,
   "id": "1311b687",
   "metadata": {},
   "outputs": [
    {
     "name": "stdout",
     "output_type": "stream",
     "text": [
      "<class 'pandas.core.frame.DataFrame'>\n",
      "RangeIndex: 5 entries, 0 to 4\n",
      "Data columns (total 3 columns):\n",
      " #   Column  Non-Null Count  Dtype         \n",
      "---  ------  --------------  -----         \n",
      " 0   Date    5 non-null      datetime64[ns]\n",
      " 1   Event   5 non-null      object        \n",
      " 2   Cost    5 non-null      int64         \n",
      "dtypes: datetime64[ns](1), int64(1), object(1)\n",
      "memory usage: 248.0+ bytes\n"
     ]
    }
   ],
   "source": [
    "df.info()"
   ]
  },
  {
   "cell_type": "markdown",
   "id": "399030fe",
   "metadata": {},
   "source": [
    "## Working With Dates After Reading CSV File"
   ]
  },
  {
   "cell_type": "code",
   "execution_count": 245,
   "id": "b1f093c3",
   "metadata": {},
   "outputs": [],
   "source": [
    "df = pd.read_csv(\"parsing_dates.csv\", names = [\"Date\", \"Event\", \"Cost\"])"
   ]
  },
  {
   "cell_type": "code",
   "execution_count": 249,
   "id": "b30b951b",
   "metadata": {},
   "outputs": [],
   "source": [
    "df[\"date\"] = pd.to_datetime(df[\"Date\"], format=\"%Y-%m-%d\")"
   ]
  },
  {
   "cell_type": "code",
   "execution_count": 250,
   "id": "fc226e81",
   "metadata": {},
   "outputs": [
    {
     "name": "stdout",
     "output_type": "stream",
     "text": [
      "<class 'pandas.core.frame.DataFrame'>\n",
      "RangeIndex: 5 entries, 0 to 4\n",
      "Data columns (total 4 columns):\n",
      " #   Column  Non-Null Count  Dtype         \n",
      "---  ------  --------------  -----         \n",
      " 0   Date    5 non-null      object        \n",
      " 1   Event   5 non-null      object        \n",
      " 2   Cost    5 non-null      int64         \n",
      " 3   date    5 non-null      datetime64[ns]\n",
      "dtypes: datetime64[ns](1), int64(1), object(2)\n",
      "memory usage: 288.0+ bytes\n"
     ]
    }
   ],
   "source": [
    "df.info()"
   ]
  },
  {
   "cell_type": "code",
   "execution_count": null,
   "id": "451a2d73",
   "metadata": {},
   "outputs": [],
   "source": []
  }
 ],
 "metadata": {
  "kernelspec": {
   "display_name": "Python 3",
   "language": "python",
   "name": "python3"
  },
  "language_info": {
   "codemirror_mode": {
    "name": "ipython",
    "version": 3
   },
   "file_extension": ".py",
   "mimetype": "text/x-python",
   "name": "python",
   "nbconvert_exporter": "python",
   "pygments_lexer": "ipython3",
   "version": "3.8.10"
  }
 },
 "nbformat": 4,
 "nbformat_minor": 5
}
