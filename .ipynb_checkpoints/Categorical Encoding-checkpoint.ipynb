{
 "cells": [
  {
   "cell_type": "markdown",
   "id": "454aa490",
   "metadata": {},
   "source": [
    "# Label Encoding"
   ]
  },
  {
   "cell_type": "markdown",
   "id": "5d8898e4",
   "metadata": {},
   "source": [
    "Machine learning models do not understand text, they only understand numbers. In some cases datasets we want to use to train a model containes text, so how do we go about changes text to a form that the machine learning algorithms can understand. \n",
    "\n",
    "\n",
    "Here is where we use **Label Encoding**. Basically converting text data to a numeric format that machine learning algorithms can work with."
   ]
  },
  {
   "cell_type": "markdown",
   "id": "57de0acd",
   "metadata": {},
   "source": [
    "In most cases, we are talking of label encoding when we have **categorical columns**. Example **male** or **female** in the gender feature column."
   ]
  },
  {
   "cell_type": "markdown",
   "id": "03f89a5e",
   "metadata": {},
   "source": []
  },
  {
   "cell_type": "markdown",
   "id": "becd449f",
   "metadata": {},
   "source": []
  }
 ],
 "metadata": {
  "kernelspec": {
   "display_name": "Python 3",
   "language": "python",
   "name": "python3"
  },
  "language_info": {
   "codemirror_mode": {
    "name": "ipython",
    "version": 3
   },
   "file_extension": ".py",
   "mimetype": "text/x-python",
   "name": "python",
   "nbconvert_exporter": "python",
   "pygments_lexer": "ipython3",
   "version": "3.8.10"
  }
 },
 "nbformat": 4,
 "nbformat_minor": 5
}
