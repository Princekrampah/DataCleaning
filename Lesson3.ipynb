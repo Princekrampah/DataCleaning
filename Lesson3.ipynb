{
 "cells": [
  {
   "cell_type": "markdown",
   "metadata": {},
   "source": [
    "# Parsing Dates"
   ]
  },
  {
   "cell_type": "markdown",
   "metadata": {},
   "source": [
    "Date parsing in an important part of data cleaning especially when it comes to the fact that you have to work with dates.\n",
    "\n",
    "\n",
    "Its a common occurence for dates to be stored in different formats and most times as string data types. This makes the date columns to be treated as \"Object\" type instead of date type.\n",
    "\n",
    "The process of taking a string and identifying its component parts and being able to convert it into dates is called ``parsing dates``\n",
    "\n",
    "Take a look at the different strftimes [here](https://strftime.org/)\n",
    "\n",
    "Dates can come in different formats example:\n",
    "\n",
    "``1/17/07 has the format \"%m/%d/%y\"``\n",
    "\n",
    "``17-1-2007 has the format \"%d-%m-%Y\"``"
   ]
  },
  {
   "cell_type": "markdown",
   "metadata": {},
   "source": [
    "Sometimes a single date column can have multiple date formats. So have are we able to tell pandas which data format to use? To do this we'll let pandas determine automatically the best date format to use for each row. to do this we set the ``infer_datetime_format`` to be True\n",
    "\n",
    "``landslides['date_parsed'] = pd.to_datetime(landslides['Date'], infer_datetime_format=True)``\n",
    "\n",
    "But its not alway a good practice to let pandas figure out the date format used.\n",
    "\n",
    "1. Its slower\n",
    "2. Pandas is not always correct"
   ]
  },
  {
   "cell_type": "code",
   "execution_count": 2,
   "metadata": {},
   "outputs": [],
   "source": [
    "import pandas as pd\n",
    "import numpy as np\n",
    "import seaborn as sns\n",
    "import datetime\n",
    "\n",
    "# set seed for reproducibility\n",
    "np.random.seed(0)"
   ]
  },
  {
   "cell_type": "code",
   "execution_count": 3,
   "metadata": {},
   "outputs": [],
   "source": [
    "df = pd.read_csv(\"datasets/volcanoes.csv\")"
   ]
  },
  {
   "cell_type": "code",
   "execution_count": 5,
   "metadata": {},
   "outputs": [
    {
     "data": {
      "text/html": [
       "<div>\n",
       "<style scoped>\n",
       "    .dataframe tbody tr th:only-of-type {\n",
       "        vertical-align: middle;\n",
       "    }\n",
       "\n",
       "    .dataframe tbody tr th {\n",
       "        vertical-align: top;\n",
       "    }\n",
       "\n",
       "    .dataframe thead th {\n",
       "        text-align: right;\n",
       "    }\n",
       "</style>\n",
       "<table border=\"1\" class=\"dataframe\">\n",
       "  <thead>\n",
       "    <tr style=\"text-align: right;\">\n",
       "      <th></th>\n",
       "      <th>Number</th>\n",
       "      <th>Name</th>\n",
       "      <th>Country</th>\n",
       "      <th>Region</th>\n",
       "      <th>Type</th>\n",
       "      <th>Activity Evidence</th>\n",
       "      <th>Last Known Eruption</th>\n",
       "      <th>Latitude</th>\n",
       "      <th>Longitude</th>\n",
       "      <th>Elevation (Meters)</th>\n",
       "      <th>Dominant Rock Type</th>\n",
       "      <th>Tectonic Setting</th>\n",
       "    </tr>\n",
       "  </thead>\n",
       "  <tbody>\n",
       "    <tr>\n",
       "      <th>0</th>\n",
       "      <td>210010</td>\n",
       "      <td>West Eifel Volcanic Field</td>\n",
       "      <td>Germany</td>\n",
       "      <td>Mediterranean and Western Asia</td>\n",
       "      <td>Maar(s)</td>\n",
       "      <td>Eruption Dated</td>\n",
       "      <td>8300 BCE</td>\n",
       "      <td>50.170</td>\n",
       "      <td>6.85</td>\n",
       "      <td>600</td>\n",
       "      <td>Foidite</td>\n",
       "      <td>Rift Zone / Continental Crust (&gt;25 km)</td>\n",
       "    </tr>\n",
       "    <tr>\n",
       "      <th>1</th>\n",
       "      <td>210020</td>\n",
       "      <td>Chaine des Puys</td>\n",
       "      <td>France</td>\n",
       "      <td>Mediterranean and Western Asia</td>\n",
       "      <td>Lava dome(s)</td>\n",
       "      <td>Eruption Dated</td>\n",
       "      <td>4040 BCE</td>\n",
       "      <td>45.775</td>\n",
       "      <td>2.97</td>\n",
       "      <td>1464</td>\n",
       "      <td>Basalt / Picro-Basalt</td>\n",
       "      <td>Rift Zone / Continental Crust (&gt;25 km)</td>\n",
       "    </tr>\n",
       "    <tr>\n",
       "      <th>2</th>\n",
       "      <td>210030</td>\n",
       "      <td>Olot Volcanic Field</td>\n",
       "      <td>Spain</td>\n",
       "      <td>Mediterranean and Western Asia</td>\n",
       "      <td>Pyroclastic cone(s)</td>\n",
       "      <td>Evidence Credible</td>\n",
       "      <td>Unknown</td>\n",
       "      <td>42.170</td>\n",
       "      <td>2.53</td>\n",
       "      <td>893</td>\n",
       "      <td>Trachybasalt / Tephrite Basanite</td>\n",
       "      <td>Intraplate / Continental Crust (&gt;25 km)</td>\n",
       "    </tr>\n",
       "    <tr>\n",
       "      <th>3</th>\n",
       "      <td>210040</td>\n",
       "      <td>Calatrava Volcanic Field</td>\n",
       "      <td>Spain</td>\n",
       "      <td>Mediterranean and Western Asia</td>\n",
       "      <td>Pyroclastic cone(s)</td>\n",
       "      <td>Eruption Dated</td>\n",
       "      <td>3600 BCE</td>\n",
       "      <td>38.870</td>\n",
       "      <td>-4.02</td>\n",
       "      <td>1117</td>\n",
       "      <td>Basalt / Picro-Basalt</td>\n",
       "      <td>Intraplate / Continental Crust (&gt;25 km)</td>\n",
       "    </tr>\n",
       "    <tr>\n",
       "      <th>4</th>\n",
       "      <td>211001</td>\n",
       "      <td>Larderello</td>\n",
       "      <td>Italy</td>\n",
       "      <td>Mediterranean and Western Asia</td>\n",
       "      <td>Explosion crater(s)</td>\n",
       "      <td>Eruption Observed</td>\n",
       "      <td>1282 CE</td>\n",
       "      <td>43.250</td>\n",
       "      <td>10.87</td>\n",
       "      <td>500</td>\n",
       "      <td>No Data</td>\n",
       "      <td>Subduction Zone / Continental Crust (&gt;25 km)</td>\n",
       "    </tr>\n",
       "  </tbody>\n",
       "</table>\n",
       "</div>"
      ],
      "text/plain": [
       "   Number                       Name  Country                          Region  \\\n",
       "0  210010  West Eifel Volcanic Field  Germany  Mediterranean and Western Asia   \n",
       "1  210020            Chaine des Puys   France  Mediterranean and Western Asia   \n",
       "2  210030        Olot Volcanic Field    Spain  Mediterranean and Western Asia   \n",
       "3  210040   Calatrava Volcanic Field    Spain  Mediterranean and Western Asia   \n",
       "4  211001                 Larderello    Italy  Mediterranean and Western Asia   \n",
       "\n",
       "                  Type  Activity Evidence Last Known Eruption  Latitude  \\\n",
       "0              Maar(s)     Eruption Dated            8300 BCE    50.170   \n",
       "1         Lava dome(s)     Eruption Dated            4040 BCE    45.775   \n",
       "2  Pyroclastic cone(s)  Evidence Credible             Unknown    42.170   \n",
       "3  Pyroclastic cone(s)     Eruption Dated            3600 BCE    38.870   \n",
       "4  Explosion crater(s)  Eruption Observed             1282 CE    43.250   \n",
       "\n",
       "   Longitude  Elevation (Meters)                Dominant Rock Type  \\\n",
       "0       6.85                 600                           Foidite   \n",
       "1       2.97                1464             Basalt / Picro-Basalt   \n",
       "2       2.53                 893  Trachybasalt / Tephrite Basanite   \n",
       "3      -4.02                1117             Basalt / Picro-Basalt   \n",
       "4      10.87                 500                           No Data   \n",
       "\n",
       "                               Tectonic Setting  \n",
       "0        Rift Zone / Continental Crust (>25 km)  \n",
       "1        Rift Zone / Continental Crust (>25 km)  \n",
       "2       Intraplate / Continental Crust (>25 km)  \n",
       "3       Intraplate / Continental Crust (>25 km)  \n",
       "4  Subduction Zone / Continental Crust (>25 km)  "
      ]
     },
     "execution_count": 5,
     "metadata": {},
     "output_type": "execute_result"
    }
   ],
   "source": [
    "df.head()"
   ]
  },
  {
   "cell_type": "code",
   "execution_count": 6,
   "metadata": {},
   "outputs": [
    {
     "data": {
      "text/plain": [
       "Index(['Number', 'Name', 'Country', 'Region', 'Type', 'Activity Evidence',\n",
       "       'Last Known Eruption', 'Latitude', 'Longitude', 'Elevation (Meters)',\n",
       "       'Dominant Rock Type', 'Tectonic Setting'],\n",
       "      dtype='object')"
      ]
     },
     "execution_count": 6,
     "metadata": {},
     "output_type": "execute_result"
    }
   ],
   "source": [
    "df.columns"
   ]
  },
  {
   "cell_type": "markdown",
   "metadata": {},
   "source": [
    "https://www.kaggle.com/alexisbcook/character-encodings"
   ]
  }
 ],
 "metadata": {
  "kernelspec": {
   "display_name": "Python 3",
   "language": "python",
   "name": "python3"
  },
  "language_info": {
   "codemirror_mode": {
    "name": "ipython",
    "version": 3
   },
   "file_extension": ".py",
   "mimetype": "text/x-python",
   "name": "python",
   "nbconvert_exporter": "python",
   "pygments_lexer": "ipython3",
   "version": "3.8.3"
  },
  "toc": {
   "base_numbering": 1,
   "nav_menu": {},
   "number_sections": true,
   "sideBar": true,
   "skip_h1_title": false,
   "title_cell": "Table of Contents",
   "title_sidebar": "Contents",
   "toc_cell": false,
   "toc_position": {},
   "toc_section_display": true,
   "toc_window_display": false
  }
 },
 "nbformat": 4,
 "nbformat_minor": 4
}
